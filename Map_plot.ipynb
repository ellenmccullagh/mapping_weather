{
 "cells": [
  {
   "cell_type": "code",
   "execution_count": 42,
   "metadata": {
    "collapsed": false
   },
   "outputs": [],
   "source": [
    "import numpy as np\n",
    "import matplotlib.pyplot as plt\n",
    "%matplotlib inline\n",
    "import pandas as pd\n",
    "import seaborn as sns\n",
    "from os import path\n",
    "from ggplot import *\n",
    "import vincent"
   ]
  },
  {
   "cell_type": "code",
   "execution_count": 2,
   "metadata": {
    "collapsed": true
   },
   "outputs": [],
   "source": [
    "weather_df = pd.DataFrame()\n",
    "weather_df = weather_df.from_csv(\"data_raw.csv\")"
   ]
  },
  {
   "cell_type": "code",
   "execution_count": 33,
   "metadata": {
    "collapsed": false
   },
   "outputs": [],
   "source": [
    "weather_df_filtered = weather_df[(weather_df[\"Precipitation\"]<100)] #filter out odd Nevada entry (precipitation cannot be 1997!)"
   ]
  },
  {
   "cell_type": "code",
   "execution_count": 86,
   "metadata": {
    "collapsed": false
   },
   "outputs": [
    {
     "data": {
      "text/plain": [
       "0.71267759562841571"
      ]
     },
     "execution_count": 86,
     "metadata": {},
     "output_type": "execute_result"
    }
   ],
   "source": [
    "state_avg_precip  = weather_df_filtered[\"Precipitation\"].groupby(weather_df_filtered[\"State\"]).mean()\n",
    "plot_data = pd.DataFrame()\n",
    "plot_data[\"State\"] = state_avg_precip.keys()\n",
    "plot_data[\"Average Precipitation\"] = state_avg_precip.values\n",
    "plot_data[\"Average Precipitation\"].max()"
   ]
  },
  {
   "cell_type": "code",
   "execution_count": 130,
   "metadata": {
    "collapsed": false
   },
   "outputs": [],
   "source": [
    "state_avg_temp = weather_df_filtered[\"Avg Wind\"].groupby(weather_df_filtered[\"State\"]).mean()\n",
    "plot_data[\"Average Wind\"] = state_avg_temp.values"
   ]
  },
  {
   "cell_type": "code",
   "execution_count": 132,
   "metadata": {
    "collapsed": false
   },
   "outputs": [
    {
     "data": {
      "text/html": [
       "\n",
       "           <script>\n",
       "               \n",
       "                function vct_load_lib(url, callback){\n",
       "                      if(typeof d3 !== 'undefined' &&\n",
       "                         url === 'http://d3js.org/d3.v3.min.js'){\n",
       "                        callback()\n",
       "                      }\n",
       "                      var s = document.createElement('script');\n",
       "                      s.src = url;\n",
       "                      s.async = true;\n",
       "                      s.onreadystatechange = s.onload = callback;\n",
       "                      s.onerror = function(){\n",
       "                        console.warn(\"failed to load library \" + url);\n",
       "                        };\n",
       "                      document.getElementsByTagName(\"head\")[0].appendChild(s);\n",
       "                };\n",
       "                var vincent_event = new CustomEvent(\n",
       "                  \"vincent_libs_loaded\",\n",
       "                  {bubbles: true, cancelable: true}\n",
       "                );\n",
       "                \n",
       "               function load_all_libs(){\n",
       "                  console.log('Loading Vincent libs...')\n",
       "                  vct_load_lib('http://d3js.org/d3.v3.min.js', function(){\n",
       "                  vct_load_lib('http://d3js.org/d3.geo.projection.v0.min.js', function(){\n",
       "                  vct_load_lib('http://wrobstory.github.io/d3-cloud/d3.layout.cloud.js', function(){\n",
       "                  vct_load_lib('http://wrobstory.github.io/vega/vega.v1.3.3.js', function(){\n",
       "                  window.dispatchEvent(vincent_event);\n",
       "                  });\n",
       "                  });\n",
       "                  });\n",
       "                  });\n",
       "               };\n",
       "               if(typeof define === \"function\" && define.amd){\n",
       "                    if (window['d3'] === undefined ||\n",
       "                        window['topojson'] === undefined){\n",
       "                        require.config(\n",
       "                            {paths: {\n",
       "                              d3: 'http://d3js.org/d3.v3.min',\n",
       "                              topojson: 'http://d3js.org/topojson.v1.min'\n",
       "                              }\n",
       "                            }\n",
       "                          );\n",
       "                        require([\"d3\"], function(d3){\n",
       "                            console.log('Loading Vincent from require.js...')\n",
       "                            window.d3 = d3;\n",
       "                            require([\"topojson\"], function(topojson){\n",
       "                                window.topojson = topojson;\n",
       "                                load_all_libs();\n",
       "                            });\n",
       "                        });\n",
       "                    } else {\n",
       "                        load_all_libs();\n",
       "                    };\n",
       "               }else{\n",
       "                    console.log('Require.js not found, loading manually...')\n",
       "                    load_all_libs();\n",
       "               };\n",
       "\n",
       "           </script>"
      ],
      "text/plain": [
       "<IPython.core.display.HTML object>"
      ]
     },
     "metadata": {},
     "output_type": "display_data"
    },
    {
     "data": {
      "text/html": [
       "<div id=\"visa3477e4659dc40dba1e689f3e2796b72\"></div>\n",
       "<script>\n",
       "   ( function() {\n",
       "     var _do_plot = function() {\n",
       "       if (typeof vg === 'undefined') {\n",
       "         window.addEventListener('vincent_libs_loaded', _do_plot)\n",
       "         return;\n",
       "       }\n",
       "       vg.parse.spec({\"axes\": [], \"data\": [{\"name\": \"table\", \"values\": [{\"x\": \"Alabama\", \"y\": 6.366120218579235}, {\"x\": \"Alaska\", \"y\": 3.3686274509803917}, {\"x\": \"Arizona\", \"y\": 7.254143646408839}, {\"x\": \"Arkansas\", \"y\": 6.377049180327869}, {\"x\": \"California\", \"y\": 5.07125890736342}, {\"x\": \"Colorado\", \"y\": 9.012345679012345}, {\"x\": \"Florida\", \"y\": 6.564207650273224}, {\"x\": \"Georgia\", \"y\": 7.557377049180328}, {\"x\": \"Idaho\", \"y\": 7.586776859504132}, {\"x\": \"Illinois\", \"y\": 7.909836065573771}, {\"x\": \"Indiana\", \"y\": 8.508196721311476}, {\"x\": \"Iowa\", \"y\": 10.5}, {\"x\": \"Kansas\", \"y\": 9.88477366255144}, {\"x\": \"Kentucky\", \"y\": 5.967213114754099}, {\"x\": \"Louisiana\", \"y\": 5.76775956284153}, {\"x\": \"Maine\", \"y\": 7.516393442622951}, {\"x\": \"Massachusetts\", \"y\": 9.688524590163935}, {\"x\": \"Michigan\", \"y\": 7.032786885245901}, {\"x\": \"Minnesota\", \"y\": 7.0}, {\"x\": \"Mississippi\", \"y\": 5.967213114754099}, {\"x\": \"Missouri\", \"y\": 8.431693989071038}, {\"x\": \"Montana\", \"y\": 7.913223140495868}, {\"x\": \"Nebraska\", \"y\": 11.005494505494505}, {\"x\": \"Nevada\", \"y\": 10.016759776536313}, {\"x\": \"New Jersey\", \"y\": 5.311475409836065}, {\"x\": \"New Mexico\", \"y\": 9.816666666666666}, {\"x\": \"New York\", \"y\": 6.649590163934426}, {\"x\": \"North Carolina\", \"y\": 7.098360655737705}, {\"x\": \"North Dakota\", \"y\": 11.248633879781421}, {\"x\": \"Ohio\", \"y\": 7.188524590163935}, {\"x\": \"Oklahoma\", \"y\": 11.114754098360656}, {\"x\": \"Oregon\", \"y\": 5.4}, {\"x\": \"Pennsylvania\", \"y\": 5.950819672131147}, {\"x\": \"Puerto Rico\", \"y\": 6.950819672131147}, {\"x\": \"South Carolina\", \"y\": 5.759562841530054}, {\"x\": \"South Dakota\", \"y\": 12.095628415300547}, {\"x\": \"Tennessee\", \"y\": 5.595628415300546}, {\"x\": \"Texas\", \"y\": 10.64696223316913}, {\"x\": \"Utah\", \"y\": 7.786885245901639}, {\"x\": \"Vermont\", \"y\": 6.934426229508197}, {\"x\": \"Virginia\", \"y\": 6.021857923497268}, {\"x\": \"Washington\", \"y\": 6.333333333333333}, {\"x\": \"West Virginia\", \"y\": 2.4098360655737703}, {\"x\": \"Wisconsin\", \"y\": 9.987704918032787}, {\"x\": \"Wyoming\", \"y\": 10.0}]}, {\"format\": {\"feature\": \"us_states.geo\", \"type\": \"topojson\"}, \"name\": \"states\", \"transform\": [{\"as\": \"value\", \"default\": \"noval\", \"key\": \"data.properties.NAME\", \"type\": \"zip\", \"with\": \"table\", \"withKey\": \"data.x\"}, {\"test\": \"d.path!='noval' && d.value!='noval'\", \"type\": \"filter\"}, {\"projection\": \"albersUsa\", \"scale\": 1000, \"translate\": [480.0, 250.0], \"type\": \"geopath\", \"value\": \"data\"}], \"url\": \"us_states.topo.json\"}], \"height\": 500, \"legends\": [{\"fill\": \"color\", \"offset\": 0, \"properties\": {}, \"title\": \"Average Monthly Wind Speed (mph)\"}], \"marks\": [{\"from\": {\"data\": \"states\"}, \"properties\": {\"enter\": {\"path\": {\"field\": \"path\"}, \"stroke\": {\"value\": \"#000000\"}}, \"update\": {\"fill\": {\"field\": \"value.data.y\", \"scale\": \"color\"}}}, \"type\": \"path\"}], \"padding\": \"auto\", \"scales\": [{\"domain\": [2.4098360655737703, 11.092902179787426], \"name\": \"color\", \"range\": [\"#ffffd9\", \"#edf8b1\", \"#c7e9b4\", \"#7fcdbb\", \"#41b6c4\", \"#1d91c0\", \"#225ea8\", \"#253494\", \"#081d58\"], \"type\": \"quantize\"}], \"width\": 960}, function(chart) {\n",
       "         chart({el: \"#visa3477e4659dc40dba1e689f3e2796b72\"}).update();\n",
       "       });\n",
       "     };\n",
       "     _do_plot();\n",
       "   })();\n",
       "</script>\n",
       "<style>.vega canvas {width: 100%;}</style>\n",
       "        "
      ],
      "text/plain": [
       "<IPython.core.display.HTML object>"
      ]
     },
     "metadata": {},
     "output_type": "display_data"
    }
   ],
   "source": [
    "vincent.core.initialize_notebook()\n",
    "state_topo = r\"us_states.topo.json\"\n",
    "geo_data = [{'name': 'states',\n",
    "             'url': state_topo,\n",
    "             'feature': 'us_states.geo'}]\n",
    "vis = vincent.Map(data = plot_data,\n",
    "                geo_data = geo_data, \n",
    "                scale = 1000, \n",
    "                data_bind = 'Average Wind',\n",
    "                data_key = 'State',\n",
    "                map_key = {'states': \"properties.NAME\"},\n",
    "                projection = 'albersUsa',\n",
    "                brew='YlGnBu')\n",
    "#vis.scales[0].type='threshold'\n",
    "#vis.scales[0].domain = [0, 50, 80]\n",
    "vis.legend(title='Average Monthly Wind Speed (mph)')\n",
    "vis.to_json('vega.json')\n",
    "vis.display()"
   ]
  },
  {
   "cell_type": "code",
   "execution_count": null,
   "metadata": {
    "collapsed": true
   },
   "outputs": [],
   "source": []
  }
 ],
 "metadata": {
  "kernelspec": {
   "display_name": "Python 3",
   "language": "python",
   "name": "python3"
  },
  "language_info": {
   "codemirror_mode": {
    "name": "ipython",
    "version": 3
   },
   "file_extension": ".py",
   "mimetype": "text/x-python",
   "name": "python",
   "nbconvert_exporter": "python",
   "pygments_lexer": "ipython3",
   "version": "3.5.2"
  }
 },
 "nbformat": 4,
 "nbformat_minor": 0
}
